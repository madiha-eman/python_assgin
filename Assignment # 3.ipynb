{
 "cells": [
  {
   "cell_type": "code",
   "execution_count": 11,
   "id": "a6387c1e",
   "metadata": {},
   "outputs": [
    {
     "name": "stdout",
     "output_type": "stream",
     "text": [
      "Twinkle, twinkle, little star, \n",
      "\t How I wonder what you are! \n",
      "\t\t Up above the world so high,\n",
      "\t\t Like a diamond in the sky. \n",
      "Twinkle, twinkle, little star, \n",
      "\t How I wonder what you are\n"
     ]
    }
   ],
   "source": [
    "# Q1. Write a Python program to print the following string in a specific format (see the output).\n",
    "                  #Twinkle, twinkle, little star,\n",
    "                          #How I wonder what you are!\n",
    "                                    #Up above the world so high,\n",
    "                                    #Like a diamond in the sky.\n",
    "                 #Twinkle, twinkle, little star,\n",
    "                         #How I wonder what you are\n",
    "                        \n",
    "##-------------------------------------ANSWER-----------------------------------##\n",
    "\n",
    "print(\"Twinkle, twinkle, little star, \\n\\t How I wonder what you are! \\n\\t\\t Up above the world so high,\\n\\t\\t Like a diamond in the sky. \\nTwinkle, twinkle, little star, \\n\\t How I wonder what you are\")\n",
    "                        "
   ]
  },
  {
   "cell_type": "code",
   "execution_count": 23,
   "id": "a722cf0a",
   "metadata": {},
   "outputs": [
    {
     "name": "stdout",
     "output_type": "stream",
     "text": [
      "Python Version 3.8.8 (default, Apr 13 2021, 15:08:03) [MSC v.1916 64 bit (AMD64)]\n"
     ]
    }
   ],
   "source": [
    "#Q2. Write a Python program to get the Python version you are using\n",
    "\n",
    "##-------------------------------------ANSWER-----------------------------------##\n",
    "\n",
    "import sys\n",
    "print(\"Python Version\", sys.version)"
   ]
  },
  {
   "cell_type": "code",
   "execution_count": 35,
   "id": "ae99b2fd",
   "metadata": {},
   "outputs": [
    {
     "name": "stdout",
     "output_type": "stream",
     "text": [
      "Current date and time :\n",
      " 2021-10-22 10:12:29\n"
     ]
    }
   ],
   "source": [
    "#Q3. Write a Python program to display the current date and time.\n",
    "\n",
    "##-------------------------------------ANSWER-----------------------------------##\n",
    "\n",
    "import datetime\n",
    "now = datetime.datetime.now().strftime(\"%Y-%m-%d %H:%M:%S\")\n",
    "print (\"Current date and time :\\n\", now)\n"
   ]
  },
  {
   "cell_type": "code",
   "execution_count": 41,
   "id": "5ec35d0c",
   "metadata": {},
   "outputs": [
    {
     "name": "stdout",
     "output_type": "stream",
     "text": [
      "Input the radius of the circle : 5\n",
      "The area of the circle with radius 5.0 is: 78.53981633974483\n"
     ]
    }
   ],
   "source": [
    "#Q4. Write a Python program which accepts the radius of a circle from the user and compute the area.\n",
    "\n",
    "##-------------------------------------ANSWER-----------------------------------##\n",
    "from math import pi\n",
    "\n",
    "r= float(input (\"Input the radius of the circle : \"))\n",
    "print (\"The area of the circle with radius \" + str(r) + \" is: \" + str(pi * r**2))"
   ]
  },
  {
   "cell_type": "code",
   "execution_count": 17,
   "id": "efff23ee",
   "metadata": {},
   "outputs": [
    {
     "name": "stdout",
     "output_type": "stream",
     "text": [
      "What is your First Name? : madiha\n",
      "What is your Last Name? : eman\n",
      "ahidam name\n"
     ]
    }
   ],
   "source": [
    "#Q5. Write a Python program which accepts the user's first and last name and print them in reverse order with a space between them.\n",
    "\n",
    "##-------------------------------------ANSWER-----------------------------------##\n",
    "\n",
    "fName = input(\"What is your First Name? : \")\n",
    "lName = input(\"What is your Last Name? : \")\n",
    "print ( fName[::-1] + \" \" + lName[::-1])\n",
    "\n"
   ]
  },
  {
   "cell_type": "code",
   "execution_count": 3,
   "id": "d793d4ae",
   "metadata": {},
   "outputs": [
    {
     "name": "stdout",
     "output_type": "stream",
     "text": [
      "Enter first number2\n",
      "Enter 2nd number2\n",
      "4\n"
     ]
    }
   ],
   "source": [
    "#Q6. Write a python program which takes two inputs from user and print them addition\n",
    "\n",
    "##-------------------------------------ANSWER-----------------------------------##\n",
    "\n",
    "a = int(input(\"Enter first number: \"))\n",
    "b =int(input(\"Enter 2nd number: \"));\n",
    "total = a + b\n",
    "print(total)"
   ]
  },
  {
   "cell_type": "code",
   "execution_count": 18,
   "id": "a342d261",
   "metadata": {},
   "outputs": [
    {
     "name": "stdout",
     "output_type": "stream",
     "text": [
      "English: 67\n",
      "Urdu: 56\n",
      "Maths: 56\n",
      "Islamiyat: 78\n",
      "Computer: 90\n",
      "51.4\n",
      "Grade: C\n",
      "Remarks: Nice\n"
     ]
    }
   ],
   "source": [
    "#Q7. Write a program which takes 5 inputs from user for different subject’s marks, total it and generate mark sheet using grades ?\n",
    "\n",
    "##-------------------------------------ANSWER-----------------------------------##\n",
    "\n",
    "a,b = int(input(\"English: \")), int(input(\"Urdu: \"))\n",
    "c,d,e = int(input(\"Maths: \")), int(input(\"Islamiyat: \")), int(input(\"Computer: \"))\n",
    "obedient_marks = a+b+c+d\n",
    "per = obedient_marks /500 *100\n",
    "print(per)\n",
    "\n",
    "if(per > 80):\n",
    "    print(\"Grade A+\")\n",
    "    print(\"Remarks: Excellent\")\n",
    "elif(per >= 70):\n",
    "    print(\"Grade: A\")\n",
    "    print(\"Remarks: Great\")\n",
    "elif(per >= 60):\n",
    "    print(\"Grade: B\")\n",
    "    print(\"Remarks: Good\")\n",
    "elif(per >= 50):\n",
    "    print(\"Grade: C\")\n",
    "    print(\"Remarks: Nice\")\n",
    "elif(per >= 40):\n",
    "    print(\"Grade: D\")\n",
    "    print(\"Remarks: Need Improvement\")\n",
    "elif(per >= 33):\n",
    "    print(\"Grade: E\")\n",
    "    print(\"Remarks: Poor, Need more hardwork\")\n",
    "else:\n",
    "    print(\"Grade: F\")\n",
    "    print(\"Remarks: Fail\")\n"
   ]
  },
  {
   "cell_type": "code",
   "execution_count": 24,
   "id": "88568f49",
   "metadata": {},
   "outputs": [
    {
     "name": "stdout",
     "output_type": "stream",
     "text": [
      "Enter an Integer number23\n",
      "23 is a odd\n"
     ]
    }
   ],
   "source": [
    "#Q8. Write a program which take input from user and identify that the given number is even or odd?\n",
    "\n",
    "##-------------------------------------ANSWER-----------------------------------##\n",
    "\n",
    "number = int(input(\"Enter an Integer number: \"))\n",
    "r = number % 2\n",
    "if(r == 0):\n",
    "    print(number, \"is an even number \")\n",
    "else:\n",
    "    print(number, \"is a odd number\")"
   ]
  },
  {
   "cell_type": "code",
   "execution_count": 46,
   "id": "ce5cb73e",
   "metadata": {},
   "outputs": [
    {
     "name": "stdout",
     "output_type": "stream",
     "text": [
      "5\n",
      "5\n"
     ]
    }
   ],
   "source": [
    "#Q9. Write a program which print the length of the list?\n",
    "\n",
    "##-------------------------------------ANSWER-----------------------------------##\n",
    "\n",
    "list = [\"madiha\",True,1,2,3]\n",
    "count=0\n",
    "\n",
    "for i in list:\n",
    "    count = count + 1\n",
    "print(count)\n",
    "\n",
    "\n",
    "\n",
    "#---------------------------------OR Using len function-----------------------------#\n",
    "\n",
    "print(len(list))"
   ]
  },
  {
   "cell_type": "code",
   "execution_count": 3,
   "id": "fa6b7407",
   "metadata": {},
   "outputs": [
    {
     "name": "stdout",
     "output_type": "stream",
     "text": [
      "60\n",
      "How many elements you wanna Enter: 2\n",
      "Enter Number: 4\n",
      "Enter Number: 4\n",
      "Sum is :  8\n"
     ]
    }
   ],
   "source": [
    "#Q10.Write a Python program to sum all the numeric items in a list?\n",
    "\n",
    "##-------------------------------------ANSWER-----------------------------------##\n",
    "\n",
    "list=[20,30,10]\n",
    "\n",
    "sum = 0\n",
    "for i in range(0,len(list)):\n",
    "    sum = sum + list[i]\n",
    "print(sum)\n",
    "\n",
    "#---------------------------------OR-----------------------------#\n",
    "\n",
    "\n",
    "list=[]\n",
    "\n",
    "a = int(input(\"How many elements you wanna Enter: \"))\n",
    "\n",
    "for i in range(a):\n",
    "    val = int(input(\"Enter Number: \"))\n",
    "    list.append(val)\n",
    "\n",
    "sum = 0\n",
    "for i in range(a):\n",
    "    sum =sum +list[i]\n",
    "print(\"Sum is : \", sum)\n"
   ]
  },
  {
   "cell_type": "code",
   "execution_count": 7,
   "id": "7fd32550",
   "metadata": {},
   "outputs": [
    {
     "name": "stdout",
     "output_type": "stream",
     "text": [
      "How many elements you wanna Enter: 3\n",
      "Enter Number: 2\n",
      "Enter Number: 4\n",
      "Enter Number: 6\n",
      "Sum is :  6\n"
     ]
    }
   ],
   "source": [
    "#Q11.Write a Python program to get the largest number from a numeric list.\n",
    "\n",
    "##-------------------------------------ANSWER-----------------------------------##\n",
    "\n",
    "list=[]\n",
    "\n",
    "a = int(input(\"How many elements you wanna Enter: \"))\n",
    "\n",
    "for i in range(a):\n",
    "    val = int(input(\"Enter Number: \"))\n",
    "    list.append(val)\n",
    "\n",
    "max = list[0]\n",
    "for i in range(a):\n",
    "    if(list[i]>max):\n",
    "        max=list[i]\n",
    "print(\"Largest number is: \", largest)\n"
   ]
  },
  {
   "cell_type": "code",
   "execution_count": 16,
   "id": "9fdd258c",
   "metadata": {},
   "outputs": [
    {
     "name": "stdout",
     "output_type": "stream",
     "text": [
      "[1, 1, 2, 3]\n"
     ]
    }
   ],
   "source": [
    "#Q12. Take a list, say for example this one:\n",
    "# a = [1, 1, 2, 3, 5, 8, 13, 21, 34, 55, 89]\n",
    "# Write a program that prints out all the elements of the list that are less than 5.\n",
    "\n",
    "##-------------------------------------ANSWER-----------------------------------##\n",
    "\n",
    "a = [1, 1, 2, 3, 5, 8, 13, 21, 34, 55, 89]\n",
    "new_list=[]\n",
    "for i in a:\n",
    "    if(i < 5):\n",
    "        new_list.append(i)\n",
    "print(new_list)"
   ]
  }
 ],
 "metadata": {
  "kernelspec": {
   "display_name": "Python 3",
   "language": "python",
   "name": "python3"
  },
  "language_info": {
   "codemirror_mode": {
    "name": "ipython",
    "version": 3
   },
   "file_extension": ".py",
   "mimetype": "text/x-python",
   "name": "python",
   "nbconvert_exporter": "python",
   "pygments_lexer": "ipython3",
   "version": "3.8.8"
  }
 },
 "nbformat": 4,
 "nbformat_minor": 5
}
