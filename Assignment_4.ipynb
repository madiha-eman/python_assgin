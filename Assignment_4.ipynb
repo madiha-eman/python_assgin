{
 "cells": [
  {
   "cell_type": "code",
   "execution_count": 28,
   "id": "f7818f95",
   "metadata": {},
   "outputs": [
    {
     "name": "stdout",
     "output_type": "stream",
     "text": [
      "Calculator \n",
      "\n",
      "Enter fisrt value: 3\n",
      "What do you want : ex(+, - , * , /)*3\n",
      "Enter second value: 3\n",
      "invild operator\n"
     ]
    }
   ],
   "source": [
    "##------------------------------------Assignment_4---------------------------------------##\n",
    "\n",
    "# Q1. Make a calculator using Python with addition , subtraction ,multiplication ,division and power.\n",
    "##------------------------------------ANSWER--------------------------------------------##\n",
    "\n",
    "def add(a,b):\n",
    "    return a + b\n",
    "\n",
    "def sub(a,b):\n",
    "    return a - b\n",
    "\n",
    "def multi(a,b):\n",
    "    return a * b\n",
    "\n",
    "def dev(a,b):\n",
    "    return a / b\n",
    "\n",
    "print(\"Calculator \\n\")\n",
    "\n",
    "\n",
    "\n",
    "num1 = int(input('Enter fisrt value: '))\n",
    "op = input('What do you want : ex(+, - , * , /)');\n",
    "num2 = int(input('Enter second value: '))\n",
    "\n",
    "\n",
    "if op == \"+\":\n",
    "    print(num1, \"+\", num2, \"=\", add(num1,num2))\n",
    "elif op == \"-\":\n",
    "        print(num1, \"-\", num2, \"=\", sub(num1,num2))\n",
    "elif op == \"*\":\n",
    "        print(num1, \"*\", num2, \"=\", multi(num1,num2))\n",
    "elif op == \"/\":\n",
    "        print(num1, \"/\", num2, \"=\", dev(num1,num2))\n",
    "else:\n",
    "    print(\"invild operator\")\n",
    "    \n",
    "\n"
   ]
  },
  {
   "cell_type": "code",
   "execution_count": 3,
   "id": "459ec2e9",
   "metadata": {},
   "outputs": [
    {
     "name": "stdout",
     "output_type": "stream",
     "text": [
      "45\n",
      "3\n",
      "8\n",
      "102\n"
     ]
    }
   ],
   "source": [
    "## Q2. Write a program to check if there is any numeric value in list using for loop.\n",
    "\n",
    "##---------------------------------------ANSWER---------------------------------------##\n",
    "\n",
    "list = [\"mani\",\"rawi\",45,\"eman\",3,8,\"cat\",102]\n",
    "\n",
    "for x in list:\n",
    "    if type(x) == int:\n",
    "        print(x)"
   ]
  },
  {
   "cell_type": "code",
   "execution_count": 19,
   "id": "8a6d610f",
   "metadata": {},
   "outputs": [
    {
     "name": "stdout",
     "output_type": "stream",
     "text": [
      "{'a': 'rose', 'b': 'jasmin', 'c': 'gfh'}\n"
     ]
    },
    {
     "data": {
      "text/plain": [
       "{3, 4, 5, 6, 'a'}"
      ]
     },
     "execution_count": 19,
     "metadata": {},
     "output_type": "execute_result"
    }
   ],
   "source": [
    "## Q3. Write a Python script to add a key to a dictionary.\n",
    "\n",
    "##---------------------------------------ANSWER---------------------------------------##\n",
    "\n",
    "dec = {\n",
    "    'a': \"rose\",\n",
    "    'b': \"jasmin\",\n",
    "} \n",
    "flower = {'c':\"gfh\"}\n",
    "\n",
    "dec.update(flower)\n",
    "print(dec)\n",
    "\n",
    "##=====================================OR===========================================##\n",
    "\n",
    "d = {3,4,5}\n",
    "d.update({6,\"a\"})\n",
    "d\n"
   ]
  },
  {
   "cell_type": "code",
   "execution_count": 56,
   "id": "4c7295be",
   "metadata": {},
   "outputs": [
    {
     "name": "stdout",
     "output_type": "stream",
     "text": [
      "12\n"
     ]
    }
   ],
   "source": [
    "## Q4. Write a Python program to sum all the numeric items in a dictionary.\n",
    "\n",
    "##------------------------------------------ANSWER-------------------------------------##\n",
    "sum1 = {\n",
    "    'c':4,\n",
    "    'd':8,\n",
    "}\n",
    "\n",
    "\n",
    "values= sum1.values()\n",
    "print(sum(values))\n"
   ]
  },
  {
   "cell_type": "code",
   "execution_count": 19,
   "id": "34443992",
   "metadata": {},
   "outputs": [
    {
     "name": "stdout",
     "output_type": "stream",
     "text": [
      "SN Uni\n",
      "SN Uni\n"
     ]
    }
   ],
   "source": [
    "## Q5. Write a program to identify duplicate values from list.\n",
    "\n",
    "##-------------------------------------------ANSWER----------------------------------##\n",
    "\n",
    "identify = ['room','SN Uni','car','karachi','seoul','SN Uni']\n",
    "duplicate=[]\n",
    "for a in identify:\n",
    "    if a == duplicate:\n",
    "        duplicate.append(a)\n",
    "\n",
    "print(a)\n",
    "\n",
    "##===========================================OR=====================================##\n",
    "\n",
    "identify = ['room','SN Uni','car','karachi','seoul','SN Uni']\n",
    "duplicate=[]\n",
    "for a in identify:\n",
    "    if a not in duplicate:\n",
    "        duplicate.append(a)\n",
    "    else:\n",
    "        print(a)\n",
    "\n",
    "\n",
    "    "
   ]
  },
  {
   "cell_type": "code",
   "execution_count": 52,
   "id": "48d7351d",
   "metadata": {},
   "outputs": [
    {
     "name": "stdout",
     "output_type": "stream",
     "text": [
      "Enter the key you wanna check: 2\n",
      "yes\n",
      "The value:  Eman\n"
     ]
    }
   ],
   "source": [
    "## Q6. Write a Python script to check if a given key already exists in a dictionary\n",
    "\n",
    "##----------------------------ANSWER-----------------------------------------##\n",
    "\n",
    "d = {1:'Madiha',2:'Eman'}\n",
    "exit_one = int(input('Enter the key you wanna check: '))\n",
    "\n",
    "if exit_one in d:\n",
    "    print('yes')\n",
    "    print('The value: ', d[exit_one])\n",
    "        \n",
    "else:\n",
    "    print('not in')\n"
   ]
  }
 ],
 "metadata": {
  "kernelspec": {
   "display_name": "Python 3",
   "language": "python",
   "name": "python3"
  },
  "language_info": {
   "codemirror_mode": {
    "name": "ipython",
    "version": 3
   },
   "file_extension": ".py",
   "mimetype": "text/x-python",
   "name": "python",
   "nbconvert_exporter": "python",
   "pygments_lexer": "ipython3",
   "version": "3.8.8"
  }
 },
 "nbformat": 4,
 "nbformat_minor": 5
}
